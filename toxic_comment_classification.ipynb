{
  "cells": [
    {
      "cell_type": "markdown",
      "metadata": {
        "id": "view-in-github",
        "colab_type": "text"
      },
      "source": [
        "<a href=\"https://colab.research.google.com/github/EYOSIYAS7/Machine_Learning_Projects/blob/main/toxic_comment_classification.ipynb\" target=\"_parent\"><img src=\"https://colab.research.google.com/assets/colab-badge.svg\" alt=\"Open In Colab\"/></a>"
      ]
    },
    {
      "cell_type": "code",
      "execution_count": null,
      "id": "43ba37c0",
      "metadata": {
        "id": "43ba37c0"
      },
      "outputs": [],
      "source": [
        "!pip install tensorflow"
      ]
    },
    {
      "cell_type": "code",
      "execution_count": null,
      "id": "ac9c70c6",
      "metadata": {
        "id": "ac9c70c6"
      },
      "outputs": [],
      "source": [
        "!pip install pandas matplotlib sklearn"
      ]
    },
    {
      "cell_type": "code",
      "execution_count": null,
      "id": "4172bae5",
      "metadata": {
        "id": "4172bae5"
      },
      "outputs": [],
      "source": [
        "!pip install pandas"
      ]
    },
    {
      "cell_type": "code",
      "execution_count": null,
      "id": "6da2b6eb",
      "metadata": {
        "scrolled": false,
        "id": "6da2b6eb",
        "outputId": "6231ab08-2190-43d5-8259-853e0e753b41"
      },
      "outputs": [
        {
          "name": "stdout",
          "output_type": "stream",
          "text": [
            "Requirement already satisfied: sklearn in c:\\python\\python310\\lib\\site-packages (0.0.post5)\n"
          ]
        }
      ],
      "source": [
        "!pip install sklearn"
      ]
    },
    {
      "cell_type": "code",
      "execution_count": null,
      "id": "0e026ccf",
      "metadata": {
        "id": "0e026ccf"
      },
      "outputs": [],
      "source": [
        "import os\n",
        "import tensorflow as tf\n",
        "import pandas as pd\n",
        "import numpy as np\n"
      ]
    },
    {
      "cell_type": "code",
      "execution_count": null,
      "id": "191366ff",
      "metadata": {
        "id": "191366ff"
      },
      "outputs": [],
      "source": [
        "path = \"../toxic comment/jigsaw-toxic-comment-classification-challenge/train/train.csv\""
      ]
    },
    {
      "cell_type": "code",
      "execution_count": null,
      "id": "dcce348b",
      "metadata": {
        "id": "dcce348b"
      },
      "outputs": [],
      "source": [
        "testDataPath = \"../toxic comment/test.csv/test.csv\""
      ]
    },
    {
      "cell_type": "code",
      "execution_count": null,
      "id": "ab6966d7",
      "metadata": {
        "id": "ab6966d7"
      },
      "outputs": [],
      "source": [
        "testData = pd.read_csv(testDataPath)"
      ]
    },
    {
      "cell_type": "code",
      "execution_count": null,
      "id": "478b4f5e",
      "metadata": {
        "id": "478b4f5e"
      },
      "outputs": [],
      "source": [
        "df = pd.read_csv(path)"
      ]
    },
    {
      "cell_type": "code",
      "execution_count": null,
      "id": "b76d561b",
      "metadata": {
        "id": "b76d561b"
      },
      "outputs": [],
      "source": [
        "df.head()"
      ]
    },
    {
      "cell_type": "code",
      "execution_count": null,
      "id": "4d7cfb71",
      "metadata": {
        "id": "4d7cfb71",
        "outputId": "fb107ac8-cdb2-4c0a-e999-146030b829c1"
      },
      "outputs": [
        {
          "data": {
            "text/html": [
              "<div>\n",
              "<style scoped>\n",
              "    .dataframe tbody tr th:only-of-type {\n",
              "        vertical-align: middle;\n",
              "    }\n",
              "\n",
              "    .dataframe tbody tr th {\n",
              "        vertical-align: top;\n",
              "    }\n",
              "\n",
              "    .dataframe thead th {\n",
              "        text-align: right;\n",
              "    }\n",
              "</style>\n",
              "<table border=\"1\" class=\"dataframe\">\n",
              "  <thead>\n",
              "    <tr style=\"text-align: right;\">\n",
              "      <th></th>\n",
              "      <th>id</th>\n",
              "      <th>comment_text</th>\n",
              "      <th>toxic</th>\n",
              "      <th>severe_toxic</th>\n",
              "      <th>obscene</th>\n",
              "      <th>threat</th>\n",
              "      <th>insult</th>\n",
              "      <th>identity_hate</th>\n",
              "    </tr>\n",
              "  </thead>\n",
              "  <tbody>\n",
              "    <tr>\n",
              "      <th>159566</th>\n",
              "      <td>ffe987279560d7ff</td>\n",
              "      <td>\":::::And for the second time of asking, when ...</td>\n",
              "      <td>0</td>\n",
              "      <td>0</td>\n",
              "      <td>0</td>\n",
              "      <td>0</td>\n",
              "      <td>0</td>\n",
              "      <td>0</td>\n",
              "    </tr>\n",
              "    <tr>\n",
              "      <th>159567</th>\n",
              "      <td>ffea4adeee384e90</td>\n",
              "      <td>You should be ashamed of yourself \\n\\nThat is ...</td>\n",
              "      <td>0</td>\n",
              "      <td>0</td>\n",
              "      <td>0</td>\n",
              "      <td>0</td>\n",
              "      <td>0</td>\n",
              "      <td>0</td>\n",
              "    </tr>\n",
              "    <tr>\n",
              "      <th>159568</th>\n",
              "      <td>ffee36eab5c267c9</td>\n",
              "      <td>Spitzer \\n\\nUmm, theres no actual article for ...</td>\n",
              "      <td>0</td>\n",
              "      <td>0</td>\n",
              "      <td>0</td>\n",
              "      <td>0</td>\n",
              "      <td>0</td>\n",
              "      <td>0</td>\n",
              "    </tr>\n",
              "    <tr>\n",
              "      <th>159569</th>\n",
              "      <td>fff125370e4aaaf3</td>\n",
              "      <td>And it looks like it was actually you who put ...</td>\n",
              "      <td>0</td>\n",
              "      <td>0</td>\n",
              "      <td>0</td>\n",
              "      <td>0</td>\n",
              "      <td>0</td>\n",
              "      <td>0</td>\n",
              "    </tr>\n",
              "    <tr>\n",
              "      <th>159570</th>\n",
              "      <td>fff46fc426af1f9a</td>\n",
              "      <td>\"\\nAnd ... I really don't think you understand...</td>\n",
              "      <td>0</td>\n",
              "      <td>0</td>\n",
              "      <td>0</td>\n",
              "      <td>0</td>\n",
              "      <td>0</td>\n",
              "      <td>0</td>\n",
              "    </tr>\n",
              "  </tbody>\n",
              "</table>\n",
              "</div>"
            ],
            "text/plain": [
              "                      id                                       comment_text  \\\n",
              "159566  ffe987279560d7ff  \":::::And for the second time of asking, when ...   \n",
              "159567  ffea4adeee384e90  You should be ashamed of yourself \\n\\nThat is ...   \n",
              "159568  ffee36eab5c267c9  Spitzer \\n\\nUmm, theres no actual article for ...   \n",
              "159569  fff125370e4aaaf3  And it looks like it was actually you who put ...   \n",
              "159570  fff46fc426af1f9a  \"\\nAnd ... I really don't think you understand...   \n",
              "\n",
              "        toxic  severe_toxic  obscene  threat  insult  identity_hate  \n",
              "159566      0             0        0       0       0              0  \n",
              "159567      0             0        0       0       0              0  \n",
              "159568      0             0        0       0       0              0  \n",
              "159569      0             0        0       0       0              0  \n",
              "159570      0             0        0       0       0              0  "
            ]
          },
          "execution_count": 325,
          "metadata": {},
          "output_type": "execute_result"
        }
      ],
      "source": [
        "df.tail()"
      ]
    },
    {
      "cell_type": "code",
      "execution_count": null,
      "id": "ebea10db",
      "metadata": {
        "id": "ebea10db",
        "outputId": "7a068f28-0d31-4ff0-dde2-9e434604daf8"
      },
      "outputs": [
        {
          "data": {
            "text/plain": [
              "\"No, I'm not. Link was forwarded to me. Please don't make assumptions about me. WP:AGF.\""
            ]
          },
          "execution_count": 58,
          "metadata": {},
          "output_type": "execute_result"
        }
      ],
      "source": [
        "df.iloc[10411][\"comment_text\"]"
      ]
    },
    {
      "cell_type": "code",
      "execution_count": null,
      "id": "f97cc314",
      "metadata": {
        "id": "f97cc314",
        "outputId": "32dc3a45-8267-4769-ee98-cac07a9033c3"
      },
      "outputs": [
        {
          "data": {
            "text/html": [
              "<div>\n",
              "<style scoped>\n",
              "    .dataframe tbody tr th:only-of-type {\n",
              "        vertical-align: middle;\n",
              "    }\n",
              "\n",
              "    .dataframe tbody tr th {\n",
              "        vertical-align: top;\n",
              "    }\n",
              "\n",
              "    .dataframe thead th {\n",
              "        text-align: right;\n",
              "    }\n",
              "</style>\n",
              "<table border=\"1\" class=\"dataframe\">\n",
              "  <thead>\n",
              "    <tr style=\"text-align: right;\">\n",
              "      <th></th>\n",
              "      <th>comment_text</th>\n",
              "    </tr>\n",
              "  </thead>\n",
              "  <tbody>\n",
              "    <tr>\n",
              "      <th>0</th>\n",
              "      <td>Explanation\\nWhy the edits made under my usern...</td>\n",
              "    </tr>\n",
              "    <tr>\n",
              "      <th>1</th>\n",
              "      <td>D'aww! He matches this background colour I'm s...</td>\n",
              "    </tr>\n",
              "    <tr>\n",
              "      <th>2</th>\n",
              "      <td>Hey man, I'm really not trying to edit war. It...</td>\n",
              "    </tr>\n",
              "    <tr>\n",
              "      <th>3</th>\n",
              "      <td>\"\\nMore\\nI can't make any real suggestions on ...</td>\n",
              "    </tr>\n",
              "    <tr>\n",
              "      <th>4</th>\n",
              "      <td>You, sir, are my hero. Any chance you remember...</td>\n",
              "    </tr>\n",
              "    <tr>\n",
              "      <th>...</th>\n",
              "      <td>...</td>\n",
              "    </tr>\n",
              "    <tr>\n",
              "      <th>159566</th>\n",
              "      <td>\":::::And for the second time of asking, when ...</td>\n",
              "    </tr>\n",
              "    <tr>\n",
              "      <th>159567</th>\n",
              "      <td>You should be ashamed of yourself \\n\\nThat is ...</td>\n",
              "    </tr>\n",
              "    <tr>\n",
              "      <th>159568</th>\n",
              "      <td>Spitzer \\n\\nUmm, theres no actual article for ...</td>\n",
              "    </tr>\n",
              "    <tr>\n",
              "      <th>159569</th>\n",
              "      <td>And it looks like it was actually you who put ...</td>\n",
              "    </tr>\n",
              "    <tr>\n",
              "      <th>159570</th>\n",
              "      <td>\"\\nAnd ... I really don't think you understand...</td>\n",
              "    </tr>\n",
              "  </tbody>\n",
              "</table>\n",
              "<p>159571 rows × 1 columns</p>\n",
              "</div>"
            ],
            "text/plain": [
              "                                             comment_text\n",
              "0       Explanation\\nWhy the edits made under my usern...\n",
              "1       D'aww! He matches this background colour I'm s...\n",
              "2       Hey man, I'm really not trying to edit war. It...\n",
              "3       \"\\nMore\\nI can't make any real suggestions on ...\n",
              "4       You, sir, are my hero. Any chance you remember...\n",
              "...                                                   ...\n",
              "159566  \":::::And for the second time of asking, when ...\n",
              "159567  You should be ashamed of yourself \\n\\nThat is ...\n",
              "159568  Spitzer \\n\\nUmm, theres no actual article for ...\n",
              "159569  And it looks like it was actually you who put ...\n",
              "159570  \"\\nAnd ... I really don't think you understand...\n",
              "\n",
              "[159571 rows x 1 columns]"
            ]
          },
          "execution_count": 60,
          "metadata": {},
          "output_type": "execute_result"
        }
      ],
      "source": [
        "df[df.columns[1:2]]"
      ]
    },
    {
      "cell_type": "markdown",
      "id": "61a8d4e7",
      "metadata": {
        "id": "61a8d4e7"
      },
      "source": [
        "# Data preprocessing\n"
      ]
    },
    {
      "cell_type": "code",
      "execution_count": null,
      "id": "7f202d07",
      "metadata": {
        "id": "7f202d07"
      },
      "outputs": [],
      "source": [
        "from tensorflow.keras.layers import TextVectorization"
      ]
    },
    {
      "cell_type": "code",
      "execution_count": null,
      "id": "4eb28ad7",
      "metadata": {
        "id": "4eb28ad7"
      },
      "outputs": [],
      "source": [
        "x = df[\"comment_text\"]\n",
        "y = df[df.columns[2:]].values"
      ]
    },
    {
      "cell_type": "code",
      "execution_count": null,
      "id": "5e3d253e",
      "metadata": {
        "id": "5e3d253e",
        "outputId": "a88e90d1-07fa-40b1-a85a-4575f7946fe7"
      },
      "outputs": [
        {
          "data": {
            "text/plain": [
              "0         Explanation\\nWhy the edits made under my usern...\n",
              "1         D'aww! He matches this background colour I'm s...\n",
              "2         Hey man, I'm really not trying to edit war. It...\n",
              "3         \"\\nMore\\nI can't make any real suggestions on ...\n",
              "4         You, sir, are my hero. Any chance you remember...\n",
              "                                ...                        \n",
              "159566    \":::::And for the second time of asking, when ...\n",
              "159567    You should be ashamed of yourself \\n\\nThat is ...\n",
              "159568    Spitzer \\n\\nUmm, theres no actual article for ...\n",
              "159569    And it looks like it was actually you who put ...\n",
              "159570    \"\\nAnd ... I really don't think you understand...\n",
              "Name: comment_text, Length: 159571, dtype: object"
            ]
          },
          "execution_count": 67,
          "metadata": {},
          "output_type": "execute_result"
        }
      ],
      "source": [
        "x"
      ]
    },
    {
      "cell_type": "code",
      "execution_count": null,
      "id": "69e93e38",
      "metadata": {
        "id": "69e93e38"
      },
      "outputs": [],
      "source": [
        "Max_words = 200000"
      ]
    },
    {
      "cell_type": "code",
      "execution_count": null,
      "id": "0882e73d",
      "metadata": {
        "id": "0882e73d"
      },
      "outputs": [],
      "source": [
        "vectorizer = TextVectorization(max_tokens = Max_words, output_sequence_length=1800,output_mode=\"int\")"
      ]
    },
    {
      "cell_type": "code",
      "execution_count": null,
      "id": "20e8b6a8",
      "metadata": {
        "id": "20e8b6a8"
      },
      "outputs": [],
      "source": [
        "vectorizer.adapt(x.values)\n"
      ]
    },
    {
      "cell_type": "code",
      "execution_count": null,
      "id": "9ef87634",
      "metadata": {
        "id": "9ef87634"
      },
      "outputs": [],
      "source": [
        "vectorized_text_test = vectorizer(x.values)"
      ]
    },
    {
      "cell_type": "code",
      "execution_count": null,
      "id": "9a8cea1b",
      "metadata": {
        "id": "9a8cea1b",
        "outputId": "1ed39a2d-0d1c-4ce6-a481-ea25f23b9f26"
      },
      "outputs": [
        {
          "data": {
            "text/plain": [
              "<tf.Tensor: shape=(1000, 1800), dtype=int64, numpy=\n",
              "array([[2664,  239, 1189, ...,    0,    0,    0],\n",
              "       [  31, 1358,    2, ...,    0,    0,    0],\n",
              "       [  86, 4350, 9703, ...,    0,    0,    0],\n",
              "       ...,\n",
              "       [  41,   10,   43, ...,    0,    0,    0],\n",
              "       [ 194,   34,  110, ...,    0,    0,    0],\n",
              "       [1474, 7363, 6258, ...,    0,    0,    0]], dtype=int64)>"
            ]
          },
          "execution_count": 221,
          "metadata": {},
          "output_type": "execute_result"
        }
      ],
      "source": [
        "vectorized_text_test"
      ]
    },
    {
      "cell_type": "code",
      "execution_count": null,
      "id": "45187fad",
      "metadata": {
        "id": "45187fad"
      },
      "outputs": [],
      "source": [
        "# mcshbap , map cache shuffle batch prefetch . effective way of creating datapiplines\n",
        "test_dataset = tf.data.Dataset.from_tensor_slices((vectorized_text_test, y))\n",
        "test_dataset = test_dataset.cache()\n",
        "test_dataset = test_dataset.shuffle(160000)\n",
        "test_dataset = test_dataset.batch(16)\n",
        "test_dataset = test_dataset.prefetch(8)"
      ]
    },
    {
      "cell_type": "code",
      "execution_count": null,
      "id": "58c2a53a",
      "metadata": {
        "id": "58c2a53a"
      },
      "outputs": [],
      "source": [
        "batchx, batchy = dataset.as_numpy_iterator().next()"
      ]
    },
    {
      "cell_type": "code",
      "execution_count": null,
      "id": "2d392d81",
      "metadata": {
        "id": "2d392d81",
        "outputId": "06b8d5a6-16d2-4b83-dc72-8c4c93e1605f"
      },
      "outputs": [
        {
          "data": {
            "text/plain": [
              "(16, 1800)"
            ]
          },
          "execution_count": 27,
          "metadata": {},
          "output_type": "execute_result"
        }
      ],
      "source": [
        "batchx.shape"
      ]
    },
    {
      "cell_type": "code",
      "execution_count": null,
      "id": "983a8354",
      "metadata": {
        "id": "983a8354",
        "outputId": "601ac999-dd8c-49f9-950e-02e1c429a0fc"
      },
      "outputs": [
        {
          "data": {
            "text/plain": [
              "(16, 6)"
            ]
          },
          "execution_count": 107,
          "metadata": {},
          "output_type": "execute_result"
        }
      ],
      "source": [
        "batchy.shape"
      ]
    },
    {
      "cell_type": "code",
      "execution_count": null,
      "id": "80961249",
      "metadata": {
        "id": "80961249"
      },
      "outputs": [],
      "source": [
        "train = test_dataset.take(int(len(test_dataset)*.7))\n",
        "val = test_dataset.skip(int(len(test_dataset)*.7)).take(int(len(test_dataset)*.2))\n",
        "test = test_dataset.skip(int(len(test_dataset)*.9)).take(int(len(test_dataset)*.1))"
      ]
    },
    {
      "cell_type": "code",
      "execution_count": null,
      "id": "df817367",
      "metadata": {
        "id": "df817367"
      },
      "outputs": [],
      "source": [
        "train_batch = train.as_numpy_iterator().next()"
      ]
    },
    {
      "cell_type": "code",
      "execution_count": null,
      "id": "501c8069",
      "metadata": {
        "id": "501c8069"
      },
      "outputs": [],
      "source": [
        "trianx, trainy = train.as_numpy_iterator().next()"
      ]
    },
    {
      "cell_type": "code",
      "execution_count": null,
      "id": "a4871e9d",
      "metadata": {
        "id": "a4871e9d",
        "outputId": "effd161c-f3c0-46ab-8dfb-fdeace8be6bb"
      },
      "outputs": [
        {
          "data": {
            "text/plain": [
              "(16, 1800)"
            ]
          },
          "execution_count": 58,
          "metadata": {},
          "output_type": "execute_result"
        }
      ],
      "source": [
        "trianx.shape"
      ]
    },
    {
      "cell_type": "markdown",
      "id": "28ea6ca3",
      "metadata": {
        "id": "28ea6ca3"
      },
      "source": [
        "# Create sequential model"
      ]
    },
    {
      "cell_type": "code",
      "execution_count": null,
      "id": "c91dc386",
      "metadata": {
        "id": "c91dc386"
      },
      "outputs": [],
      "source": [
        "from tensorflow.keras.models import Sequential\n",
        "from tensorflow.keras.layers import LSTM, Dropout, Bidirectional , Dense, Embedding"
      ]
    },
    {
      "cell_type": "code",
      "execution_count": null,
      "id": "a3eacff5",
      "metadata": {
        "id": "a3eacff5"
      },
      "outputs": [],
      "source": [
        "Embedding??"
      ]
    },
    {
      "cell_type": "code",
      "execution_count": null,
      "id": "08e371fb",
      "metadata": {
        "id": "08e371fb"
      },
      "outputs": [],
      "source": [
        "model = Sequential()\n",
        "\n",
        "model.add(Embedding(Max_words+1, 32))\n",
        "model.add(Bidirectional(LSTM(32, activation= \"tanh\")) )\n",
        "model.add(Dense(128, activation=\"relu\"))\n",
        "model.add(Dense(256, activation=\"relu\"))\n",
        "model.add(Dense(128, activation=\"relu\"))\n",
        "model.add(Dense(6, activation=\"sigmoid\"))\n"
      ]
    },
    {
      "cell_type": "code",
      "execution_count": null,
      "id": "6a0be178",
      "metadata": {
        "id": "6a0be178"
      },
      "outputs": [],
      "source": [
        "model.compile(loss=\"BinaryCrossentropy\", optimizer =\"Adam\")"
      ]
    },
    {
      "cell_type": "code",
      "execution_count": null,
      "id": "6a3f325f",
      "metadata": {
        "id": "6a3f325f",
        "outputId": "c753f310-1e3e-41be-82d4-8a87db4be3fd"
      },
      "outputs": [
        {
          "name": "stdout",
          "output_type": "stream",
          "text": [
            "Model: \"sequential\"\n",
            "_________________________________________________________________\n",
            " Layer (type)                Output Shape              Param #   \n",
            "=================================================================\n",
            " embedding (Embedding)       (None, None, 32)          6400032   \n",
            "                                                                 \n",
            " bidirectional (Bidirectiona  (None, 64)               16640     \n",
            " l)                                                              \n",
            "                                                                 \n",
            " dense (Dense)               (None, 128)               8320      \n",
            "                                                                 \n",
            " dense_1 (Dense)             (None, 256)               33024     \n",
            "                                                                 \n",
            " dense_2 (Dense)             (None, 128)               32896     \n",
            "                                                                 \n",
            " dense_3 (Dense)             (None, 6)                 774       \n",
            "                                                                 \n",
            "=================================================================\n",
            "Total params: 6,491,686\n",
            "Trainable params: 6,491,686\n",
            "Non-trainable params: 0\n",
            "_________________________________________________________________\n"
          ]
        }
      ],
      "source": [
        "model.summary()"
      ]
    },
    {
      "cell_type": "code",
      "execution_count": null,
      "id": "57990fb3",
      "metadata": {
        "id": "57990fb3"
      },
      "outputs": [],
      "source": [
        "model = tf.keras.models.load_model('../toxic comment/toxicity (1).h5')"
      ]
    },
    {
      "cell_type": "markdown",
      "id": "abcfed60",
      "metadata": {
        "id": "abcfed60"
      },
      "source": [
        "# Making prediction"
      ]
    },
    {
      "cell_type": "code",
      "execution_count": null,
      "id": "0671d2ca",
      "metadata": {
        "id": "0671d2ca"
      },
      "outputs": [],
      "source": [
        "input_text = vectorizer(\"!\")"
      ]
    },
    {
      "cell_type": "code",
      "execution_count": null,
      "id": "b05222e2",
      "metadata": {
        "id": "b05222e2",
        "outputId": "e0c31e17-e407-40fa-d693-66176454e2d1"
      },
      "outputs": [
        {
          "data": {
            "text/plain": [
              "(1, 1800)"
            ]
          },
          "execution_count": 311,
          "metadata": {},
          "output_type": "execute_result"
        }
      ],
      "source": [
        "np.expand_dims(input_text,0).shape"
      ]
    },
    {
      "cell_type": "code",
      "execution_count": null,
      "id": "872fbfdf",
      "metadata": {
        "id": "872fbfdf",
        "outputId": "eab64b18-cd20-425b-e54f-46df59885816"
      },
      "outputs": [
        {
          "name": "stdout",
          "output_type": "stream",
          "text": [
            "1/1 [==============================] - 0s 124ms/step\n"
          ]
        }
      ],
      "source": [
        "result = model.predict(np.expand_dims(input_text,0))"
      ]
    },
    {
      "cell_type": "code",
      "execution_count": null,
      "id": "a905de86",
      "metadata": {
        "id": "a905de86",
        "outputId": "b57a19c4-d29b-4315-bdac-615a3eca69d9"
      },
      "outputs": [
        {
          "data": {
            "text/plain": [
              "array([[0.96461105, 0.01926725, 0.00296893, 0.02969842, 0.09555612,\n",
              "        0.8138339 ]], dtype=float32)"
            ]
          },
          "execution_count": 321,
          "metadata": {},
          "output_type": "execute_result"
        }
      ],
      "source": [
        "result"
      ]
    },
    {
      "cell_type": "code",
      "execution_count": null,
      "id": "5eafe515",
      "metadata": {
        "id": "5eafe515",
        "outputId": "43630559-8d63-45f7-f876-a7d0612b5f1d"
      },
      "outputs": [
        {
          "data": {
            "text/plain": [
              "array([[1, 0, 0, 0, 0, 1]])"
            ]
          },
          "execution_count": 322,
          "metadata": {},
          "output_type": "execute_result"
        }
      ],
      "source": [
        "(result >0.4).astype(int)"
      ]
    },
    {
      "cell_type": "code",
      "execution_count": null,
      "id": "a202e343",
      "metadata": {
        "id": "a202e343",
        "outputId": "bd412d2d-574f-4b87-9402-3ffacd723b14"
      },
      "outputs": [
        {
          "data": {
            "text/plain": [
              "Index(['toxic', 'severe_toxic', 'obscene', 'threat', 'insult',\n",
              "       'identity_hate'],\n",
              "      dtype='object')"
            ]
          },
          "execution_count": 42,
          "metadata": {},
          "output_type": "execute_result"
        }
      ],
      "source": [
        "df.columns[2:]"
      ]
    },
    {
      "cell_type": "code",
      "execution_count": null,
      "id": "1ba2a3c7",
      "metadata": {
        "id": "1ba2a3c7",
        "outputId": "322f54c9-0aff-4749-c380-4333dd48e45e"
      },
      "outputs": [
        {
          "data": {
            "text/plain": [
              "array([[0.9984725 , 0.38181385, 0.9791897 , 0.01591792, 0.9045521 ,\n",
              "        0.11702833]], dtype=float32)"
            ]
          },
          "execution_count": 73,
          "metadata": {},
          "output_type": "execute_result"
        }
      ],
      "source": [
        "result"
      ]
    },
    {
      "cell_type": "markdown",
      "id": "6abbd634",
      "metadata": {
        "id": "6abbd634"
      },
      "source": [
        "# Model evaluation"
      ]
    },
    {
      "cell_type": "code",
      "execution_count": null,
      "id": "0e181612",
      "metadata": {
        "id": "0e181612"
      },
      "outputs": [],
      "source": [
        "from tensorflow.keras.metrics import Precision, Recall, CategoricalAccuracy"
      ]
    },
    {
      "cell_type": "code",
      "execution_count": null,
      "id": "6e984eed",
      "metadata": {
        "id": "6e984eed"
      },
      "outputs": [],
      "source": [
        "pre = Precision()\n",
        "re = Recall()\n",
        "acc = CategoricalAccuracy()"
      ]
    },
    {
      "cell_type": "code",
      "execution_count": null,
      "id": "f5cdd16d",
      "metadata": {
        "id": "f5cdd16d"
      },
      "outputs": [],
      "source": [
        "x ,y = test.as_numpy_iterator().next()"
      ]
    },
    {
      "cell_type": "code",
      "execution_count": null,
      "id": "b46357b2",
      "metadata": {
        "id": "b46357b2",
        "outputId": "c6c7a604-390d-462a-ca57-c20ed05bcd87"
      },
      "outputs": [
        {
          "data": {
            "text/plain": [
              "array([[     7,     20,  26775, ...,      0,      0,      0],\n",
              "       [     5,    667,     34, ...,      0,      0,      0],\n",
              "       [    51,   1146,   7475, ...,      0,      0,      0],\n",
              "       ...,\n",
              "       [    21,    675,     13, ...,      0,      0,      0],\n",
              "       [   185,     10,     52, ...,      0,      0,      0],\n",
              "       [   576, 182429,   4300, ...,      0,      0,      0]], dtype=int64)"
            ]
          },
          "execution_count": 284,
          "metadata": {},
          "output_type": "execute_result"
        }
      ],
      "source": [
        "x"
      ]
    },
    {
      "cell_type": "code",
      "execution_count": null,
      "id": "ed7c7db5",
      "metadata": {
        "id": "ed7c7db5"
      },
      "outputs": [],
      "source": [
        "for batch in test.as_numpy_iterator():\n",
        "\n",
        "    X_true, y_true = batch\n",
        "\n",
        "    y_hat = model.predict(X_true)\n",
        "    y_hat = (y_hat >0.4).astype(int)\n",
        "\n",
        "    y_true.flatten()\n",
        "    y_hat.flatten()\n",
        "\n",
        "    pre.update_state(y_true,y_hat)\n",
        "    re.update_state(y_true,y_hat)\n",
        "    acc.update_state(y_true,y_hat)"
      ]
    },
    {
      "cell_type": "code",
      "execution_count": null,
      "id": "c47f4f23",
      "metadata": {
        "id": "c47f4f23",
        "outputId": "6e1c648b-92aa-4324-cb22-ec1920d3249b"
      },
      "outputs": [
        {
          "name": "stdout",
          "output_type": "stream",
          "text": [
            "Precision : 0.8866087794303894,Recall : 0.4464462995529175,Accuracy : 0.9942989349365234\n"
          ]
        }
      ],
      "source": [
        "print(f'Precision : {pre.result().numpy()},Recall : {re.result().numpy()},Accuracy : {acc.result().numpy()}')"
      ]
    },
    {
      "cell_type": "code",
      "execution_count": null,
      "id": "9e584159",
      "metadata": {
        "id": "9e584159",
        "outputId": "8e3a98aa-d43a-439b-988b-f33ec50d7136"
      },
      "outputs": [
        {
          "data": {
            "text/plain": [
              "0.8134206"
            ]
          },
          "execution_count": 76,
          "metadata": {},
          "output_type": "execute_result"
        }
      ],
      "source": [
        "pre.result().numpy()"
      ]
    },
    {
      "cell_type": "code",
      "execution_count": null,
      "id": "6d007ee5",
      "metadata": {
        "id": "6d007ee5"
      },
      "outputs": [],
      "source": [
        "labelPath  =  \"../toxic comment/test_labels.csv/test_labels.csv\""
      ]
    },
    {
      "cell_type": "code",
      "execution_count": null,
      "id": "be72eedf",
      "metadata": {
        "id": "be72eedf"
      },
      "outputs": [],
      "source": [
        "labels = pd.read_csv(labelPath)"
      ]
    },
    {
      "cell_type": "code",
      "execution_count": null,
      "id": "71ecb62a",
      "metadata": {
        "id": "71ecb62a",
        "outputId": "951c226b-3b80-4f25-f28c-4c38f648e6bd"
      },
      "outputs": [
        {
          "data": {
            "text/html": [
              "<div>\n",
              "<style scoped>\n",
              "    .dataframe tbody tr th:only-of-type {\n",
              "        vertical-align: middle;\n",
              "    }\n",
              "\n",
              "    .dataframe tbody tr th {\n",
              "        vertical-align: top;\n",
              "    }\n",
              "\n",
              "    .dataframe thead th {\n",
              "        text-align: right;\n",
              "    }\n",
              "</style>\n",
              "<table border=\"1\" class=\"dataframe\">\n",
              "  <thead>\n",
              "    <tr style=\"text-align: right;\">\n",
              "      <th></th>\n",
              "      <th>id</th>\n",
              "      <th>toxic</th>\n",
              "      <th>severe_toxic</th>\n",
              "      <th>obscene</th>\n",
              "      <th>threat</th>\n",
              "      <th>insult</th>\n",
              "      <th>identity_hate</th>\n",
              "    </tr>\n",
              "  </thead>\n",
              "  <tbody>\n",
              "    <tr>\n",
              "      <th>0</th>\n",
              "      <td>00001cee341fdb12</td>\n",
              "      <td>1</td>\n",
              "      <td>1</td>\n",
              "      <td>1</td>\n",
              "      <td>1</td>\n",
              "      <td>1</td>\n",
              "      <td>1</td>\n",
              "    </tr>\n",
              "    <tr>\n",
              "      <th>1</th>\n",
              "      <td>0000247867823ef7</td>\n",
              "      <td>1</td>\n",
              "      <td>1</td>\n",
              "      <td>1</td>\n",
              "      <td>1</td>\n",
              "      <td>1</td>\n",
              "      <td>1</td>\n",
              "    </tr>\n",
              "    <tr>\n",
              "      <th>2</th>\n",
              "      <td>00013b17ad220c46</td>\n",
              "      <td>1</td>\n",
              "      <td>1</td>\n",
              "      <td>1</td>\n",
              "      <td>1</td>\n",
              "      <td>1</td>\n",
              "      <td>1</td>\n",
              "    </tr>\n",
              "    <tr>\n",
              "      <th>3</th>\n",
              "      <td>00017563c3f7919a</td>\n",
              "      <td>1</td>\n",
              "      <td>1</td>\n",
              "      <td>1</td>\n",
              "      <td>1</td>\n",
              "      <td>1</td>\n",
              "      <td>1</td>\n",
              "    </tr>\n",
              "    <tr>\n",
              "      <th>4</th>\n",
              "      <td>00017695ad8997eb</td>\n",
              "      <td>1</td>\n",
              "      <td>1</td>\n",
              "      <td>1</td>\n",
              "      <td>1</td>\n",
              "      <td>1</td>\n",
              "      <td>1</td>\n",
              "    </tr>\n",
              "    <tr>\n",
              "      <th>...</th>\n",
              "      <td>...</td>\n",
              "      <td>...</td>\n",
              "      <td>...</td>\n",
              "      <td>...</td>\n",
              "      <td>...</td>\n",
              "      <td>...</td>\n",
              "      <td>...</td>\n",
              "    </tr>\n",
              "    <tr>\n",
              "      <th>153159</th>\n",
              "      <td>fffcd0960ee309b5</td>\n",
              "      <td>1</td>\n",
              "      <td>1</td>\n",
              "      <td>1</td>\n",
              "      <td>1</td>\n",
              "      <td>1</td>\n",
              "      <td>1</td>\n",
              "    </tr>\n",
              "    <tr>\n",
              "      <th>153160</th>\n",
              "      <td>fffd7a9a6eb32c16</td>\n",
              "      <td>1</td>\n",
              "      <td>1</td>\n",
              "      <td>1</td>\n",
              "      <td>1</td>\n",
              "      <td>1</td>\n",
              "      <td>1</td>\n",
              "    </tr>\n",
              "    <tr>\n",
              "      <th>153161</th>\n",
              "      <td>fffda9e8d6fafa9e</td>\n",
              "      <td>1</td>\n",
              "      <td>1</td>\n",
              "      <td>1</td>\n",
              "      <td>1</td>\n",
              "      <td>1</td>\n",
              "      <td>1</td>\n",
              "    </tr>\n",
              "    <tr>\n",
              "      <th>153162</th>\n",
              "      <td>fffe8f1340a79fc2</td>\n",
              "      <td>1</td>\n",
              "      <td>1</td>\n",
              "      <td>1</td>\n",
              "      <td>1</td>\n",
              "      <td>1</td>\n",
              "      <td>1</td>\n",
              "    </tr>\n",
              "    <tr>\n",
              "      <th>153163</th>\n",
              "      <td>ffffce3fb183ee80</td>\n",
              "      <td>1</td>\n",
              "      <td>1</td>\n",
              "      <td>1</td>\n",
              "      <td>1</td>\n",
              "      <td>1</td>\n",
              "      <td>1</td>\n",
              "    </tr>\n",
              "  </tbody>\n",
              "</table>\n",
              "<p>153164 rows × 7 columns</p>\n",
              "</div>"
            ],
            "text/plain": [
              "                      id  toxic  severe_toxic  obscene  threat  insult  \\\n",
              "0       00001cee341fdb12      1             1        1       1       1   \n",
              "1       0000247867823ef7      1             1        1       1       1   \n",
              "2       00013b17ad220c46      1             1        1       1       1   \n",
              "3       00017563c3f7919a      1             1        1       1       1   \n",
              "4       00017695ad8997eb      1             1        1       1       1   \n",
              "...                  ...    ...           ...      ...     ...     ...   \n",
              "153159  fffcd0960ee309b5      1             1        1       1       1   \n",
              "153160  fffd7a9a6eb32c16      1             1        1       1       1   \n",
              "153161  fffda9e8d6fafa9e      1             1        1       1       1   \n",
              "153162  fffe8f1340a79fc2      1             1        1       1       1   \n",
              "153163  ffffce3fb183ee80      1             1        1       1       1   \n",
              "\n",
              "        identity_hate  \n",
              "0                   1  \n",
              "1                   1  \n",
              "2                   1  \n",
              "3                   1  \n",
              "4                   1  \n",
              "...               ...  \n",
              "153159              1  \n",
              "153160              1  \n",
              "153161              1  \n",
              "153162              1  \n",
              "153163              1  \n",
              "\n",
              "[153164 rows x 7 columns]"
            ]
          },
          "execution_count": 229,
          "metadata": {},
          "output_type": "execute_result"
        }
      ],
      "source": [
        "labels.replace(-1, 1)"
      ]
    },
    {
      "cell_type": "code",
      "execution_count": null,
      "id": "97c4019f",
      "metadata": {
        "id": "97c4019f",
        "outputId": "2bef723a-88d7-420e-a296-5b973cfa3f17"
      },
      "outputs": [
        {
          "data": {
            "text/plain": [
              "Index(['severe_toxic', 'obscene', 'threat', 'insult', 'identity_hate'], dtype='object')"
            ]
          },
          "execution_count": 232,
          "metadata": {},
          "output_type": "execute_result"
        }
      ],
      "source": [
        "labels.columns[2:]"
      ]
    },
    {
      "cell_type": "markdown",
      "source": [
        "Model Inference"
      ],
      "metadata": {
        "id": "Acvu0m8oLtLi"
      },
      "id": "Acvu0m8oLtLi"
    },
    {
      "cell_type": "code",
      "execution_count": null,
      "id": "a5c160ff",
      "metadata": {
        "id": "a5c160ff"
      },
      "outputs": [],
      "source": [
        "input_text = vectorizer(\"You 're a stupid man, I 'm going to teach you about the ball, but they 're men who don 't know the ball, they 're stupid guys who despise the women.\")"
      ]
    },
    {
      "cell_type": "code",
      "execution_count": null,
      "id": "c62489b6",
      "metadata": {
        "id": "c62489b6",
        "outputId": "2aa15c4e-45ff-4643-9118-a8b423155476"
      },
      "outputs": [
        {
          "name": "stdout",
          "output_type": "stream",
          "text": [
            "1/1 [==============================] - 0s 112ms/step\n"
          ]
        }
      ],
      "source": [
        "result = model.predict(np.expand_dims(input_text,0))"
      ]
    },
    {
      "cell_type": "code",
      "execution_count": null,
      "id": "de0362f7",
      "metadata": {
        "id": "de0362f7",
        "outputId": "93509d2d-24cc-4e06-d17e-dfad967a2f92"
      },
      "outputs": [
        {
          "data": {
            "text/plain": [
              "array([[1, 0, 0, 0, 1, 0]])"
            ]
          },
          "execution_count": 35,
          "metadata": {},
          "output_type": "execute_result"
        }
      ],
      "source": [
        "(result > 0.4).astype(int)"
      ]
    },
    {
      "cell_type": "markdown",
      "source": [
        "The corresponding values of the array"
      ],
      "metadata": {
        "id": "p1gkIhPvLDlI"
      },
      "id": "p1gkIhPvLDlI"
    },
    {
      "cell_type": "code",
      "execution_count": null,
      "id": "e96fa93a",
      "metadata": {
        "id": "e96fa93a",
        "outputId": "478f22d4-48e6-433c-dd26-b3d66708a5ea"
      },
      "outputs": [
        {
          "data": {
            "text/plain": [
              "Index(['toxic', 'severe_toxic', 'obscene', 'threat', 'insult',\n",
              "       'identity_hate'],\n",
              "      dtype='object')"
            ]
          },
          "execution_count": 340,
          "metadata": {},
          "output_type": "execute_result"
        }
      ],
      "source": [
        "last.columns[2:]"
      ]
    }
  ],
  "metadata": {
    "kernelspec": {
      "display_name": "Python 3 (ipykernel)",
      "language": "python",
      "name": "python3"
    },
    "language_info": {
      "codemirror_mode": {
        "name": "ipython",
        "version": 3
      },
      "file_extension": ".py",
      "mimetype": "text/x-python",
      "name": "python",
      "nbconvert_exporter": "python",
      "pygments_lexer": "ipython3",
      "version": "3.10.4"
    },
    "colab": {
      "provenance": [],
      "include_colab_link": true
    }
  },
  "nbformat": 4,
  "nbformat_minor": 5
}